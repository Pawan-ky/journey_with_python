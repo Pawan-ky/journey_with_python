{
 "cells": [
  {
   "cell_type": "code",
   "execution_count": 2,
   "metadata": {},
   "outputs": [
    {
     "name": "stdout",
     "output_type": "stream",
     "text": [
      "guess the number bw 1 and 96\n",
      "lessr : try again\n",
      "1\n",
      "guess the number bw 1 and 97\n",
      "lessr : try again\n",
      "2\n",
      "guess the number bw 1 and 98\n",
      "correct : congrats\n",
      "3\n"
     ]
    }
   ],
   "source": [
    "import random\n",
    "x = random.randint(1,9)\n",
    "y=0\n",
    "count =0\n",
    "while(x!=y):\n",
    "    y = int(input(\"guess the number bw 1 and 9\"))\n",
    "    if x>y:\n",
    "        count+=1\n",
    "        print(\"lessr : try again\")\n",
    "        print(count)\n",
    "    elif x<y:\n",
    "        count+=1\n",
    "        print(\"more : try again\")\n",
    "        print(count)\n",
    "if x==y:\n",
    "        count+=1\n",
    "        print(\"correct : congrats\")\n",
    "        print(count)   \n",
    "        "
   ]
  },
  {
   "cell_type": "code",
   "execution_count": null,
   "metadata": {},
   "outputs": [],
   "source": []
  },
  {
   "cell_type": "code",
   "execution_count": null,
   "metadata": {},
   "outputs": [],
   "source": []
  }
 ],
 "metadata": {
  "kernelspec": {
   "display_name": "Python 3",
   "language": "python",
   "name": "python3"
  },
  "language_info": {
   "codemirror_mode": {
    "name": "ipython",
    "version": 3
   },
   "file_extension": ".py",
   "mimetype": "text/x-python",
   "name": "python",
   "nbconvert_exporter": "python",
   "pygments_lexer": "ipython3",
   "version": "3.7.4"
  }
 },
 "nbformat": 4,
 "nbformat_minor": 2
}
