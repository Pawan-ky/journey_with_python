{
 "cells": [
  {
   "cell_type": "code",
   "execution_count": 1,
   "metadata": {},
   "outputs": [
    {
     "name": "stdout",
     "output_type": "stream",
     "text": [
      "[4, 16, 36, 64, 100]\n"
     ]
    }
   ],
   "source": [
    "#list comprehension\n",
    "a = [1, 4, 9, 16, 25, 36, 49, 64, 81, 100]\n",
    "b = [i for i in a if i%2==0]\n",
    "print(b)"
   ]
  },
  {
   "cell_type": "code",
   "execution_count": 8,
   "metadata": {},
   "outputs": [
    {
     "name": "stdout",
     "output_type": "stream",
     "text": [
      "[71, 76, 80, 85, 89, 88]\n"
     ]
    }
   ],
   "source": [
    "#find when they will turn 100\n",
    "yb = [1990,1995,1999,2004,2008,2007]\n",
    "turning100 = list(map(lambda x:100-x,[2019-i for i in yb]))\n",
    "print(turning100)"
   ]
  },
  {
   "cell_type": "code",
   "execution_count": 4,
   "metadata": {},
   "outputs": [
    {
     "name": "stdout",
     "output_type": "stream",
     "text": [
      "[95, 50, 93, 12, 17, 36, 34, 38, 63, 47]\n",
      "[37, 8, 59, 72, 39, 11, 23, 95, 38, 74]\n",
      "[95, 38]\n"
     ]
    }
   ],
   "source": [
    "# comman element in list\n",
    "import random\n",
    "a = list(random.sample(range(100),10))\n",
    "b = list(random.sample(range(100),10))\n",
    "print(a)\n",
    "print(b)\n",
    "c = [x for x in a if x in b]\n",
    "print(c)"
   ]
  },
  {
   "cell_type": "code",
   "execution_count": null,
   "metadata": {},
   "outputs": [],
   "source": []
  }
 ],
 "metadata": {
  "kernelspec": {
   "display_name": "Python 3",
   "language": "python",
   "name": "python3"
  },
  "language_info": {
   "codemirror_mode": {
    "name": "ipython",
    "version": 3
   },
   "file_extension": ".py",
   "mimetype": "text/x-python",
   "name": "python",
   "nbconvert_exporter": "python",
   "pygments_lexer": "ipython3",
   "version": "3.7.4"
  }
 },
 "nbformat": 4,
 "nbformat_minor": 2
}
