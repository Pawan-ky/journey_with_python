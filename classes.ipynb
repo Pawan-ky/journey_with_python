{
 "cells": [
  {
   "cell_type": "code",
   "execution_count": 12,
   "metadata": {},
   "outputs": [
    {
     "name": "stdout",
     "output_type": "stream",
     "text": [
      "enter radius6\n",
      "113.04\n",
      "37.68\n"
     ]
    }
   ],
   "source": [
    "# area of circle\n",
    "n = int(input('enter radius'))\n",
    "class circle():\n",
    "    def __init__(self,radius):\n",
    "        self.r = radius\n",
    "    def getarea(self,r):      #check argument is required while calling this func\n",
    "        return 3.14*r**2\n",
    "    def getcircum(self):      #no argument is required ___because we used self.r\n",
    "        return 2*3.14*self.r\n",
    "m = circle(n)\n",
    "print(m.getarea(n))          #argument passed\n",
    "print(m.getcircum())         #no argument passed"
   ]
  },
  {
   "cell_type": "code",
   "execution_count": 9,
   "metadata": {},
   "outputs": [
    {
     "name": "stdout",
     "output_type": "stream",
     "text": [
      "enter namepawan\n",
      "enter roll no13\n",
      "pawan\n",
      "13\n",
      "None\n"
     ]
    }
   ],
   "source": [
    "# student details\n",
    "st = str(input(\"enter name\"))\n",
    "roll =int(input('enter roll no'))\n",
    "class student():\n",
    "    def __init__(self,name,rollno):\n",
    "        self.name=name\n",
    "        self.rn=rollno\n",
    "    def setage(self,age):\n",
    "        self.age=age\n",
    "  #  def getage(self):\n",
    "  #      print(self.age)\n",
    "    def setmarks(self,marks):\n",
    "        self.marks=marks\n",
    "    def disp(self):\n",
    "        print(self.name)\n",
    "        print(self.rn)\n",
    "s = student(st,roll)\n",
    "\n",
    "print(s.disp())"
   ]
  },
  {
   "cell_type": "code",
   "execution_count": 11,
   "metadata": {},
   "outputs": [
    {
     "name": "stdout",
     "output_type": "stream",
     "text": [
      "enter first angle value30\n",
      "enter second angle value60\n",
      "enter third angle value90\n",
      "True\n"
     ]
    }
   ],
   "source": [
    "# check triangle\n",
    "a = int(input(\"enter first angle value\"))\n",
    "b = int(input(\"enter second angle value\"))\n",
    "c = int(input(\"enter third angle value\"))\n",
    "\n",
    "class traingle():\n",
    "    def __init__(self,angle1,angle2,angle3):\n",
    "        self.a1=angle1\n",
    "        self.a2=angle2\n",
    "        self.a3=angle3\n",
    "    def check(self):\n",
    "        return True if self.a1+self.a2+self.a3==180 else False\n",
    "t= traingle(a,b,c)\n",
    "print(t.check())"
   ]
  }
 ],
 "metadata": {
  "kernelspec": {
   "display_name": "Python 3",
   "language": "python",
   "name": "python3"
  },
  "language_info": {
   "codemirror_mode": {
    "name": "ipython",
    "version": 3
   },
   "file_extension": ".py",
   "mimetype": "text/x-python",
   "name": "python",
   "nbconvert_exporter": "python",
   "pygments_lexer": "ipython3",
   "version": "3.7.4"
  }
 },
 "nbformat": 4,
 "nbformat_minor": 2
}
