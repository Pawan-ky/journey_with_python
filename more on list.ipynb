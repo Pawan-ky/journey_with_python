{
 "cells": [
  {
   "cell_type": "code",
   "execution_count": 6,
   "metadata": {},
   "outputs": [
    {
     "name": "stdout",
     "output_type": "stream",
     "text": [
      "[10, 14, 18, 20, 38, 56, 75]\n"
     ]
    }
   ],
   "source": [
    "#remove duplicate element from list \n",
    "\n",
    "a = [10,14,18,10,18,20,38,38,18,56,75,75]\n",
    "b = set(a)\n",
    "a = list(b)\n",
    "a.sort()\n",
    "print(a)"
   ]
  },
  {
   "cell_type": "code",
   "execution_count": 11,
   "metadata": {},
   "outputs": [
    {
     "name": "stdout",
     "output_type": "stream",
     "text": [
      "enter the long stringloda le le tu\n",
      "tu le le loda\n"
     ]
    }
   ],
   "source": [
    "# reverse the string letter by letter\n",
    "my = str(input(\"enter the long string\"))\n",
    "def rev(my):\n",
    "    b =my.split(\" \")\n",
    "    b = b[::-1]\n",
    "    #we ca also use b.reverse() to reverse the list\n",
    "    return \" \".join(b)\n",
    "print(rev(my))"
   ]
  },
  {
   "cell_type": "code",
   "execution_count": 20,
   "metadata": {},
   "outputs": [
    {
     "name": "stdout",
     "output_type": "stream",
     "text": [
      "length of password19\n",
      "H)*9]_Ob[tCNw<Ap1oJ\n"
     ]
    }
   ],
   "source": [
    "#random password generator+\n",
    "\n",
    "import random\n",
    "s = \"~@#$%^&*()_+`-./?qwertyuiopasd1234567890fghjklzxcvbnmQWERTYUI=[]{}OPASDFGHJKLZXCVBNM<>\"\n",
    "n = int(input(\"length of password\"))\n",
    "def passgen(n):\n",
    "    if n<8:\n",
    "        print(\"password length is too small\")\n",
    "    else:\n",
    "        password =  \"\".join(random.sample(s,n))\n",
    "        return password\n",
    "print(passgen(n))"
   ]
  },
  {
   "cell_type": "code",
   "execution_count": 1,
   "metadata": {},
   "outputs": [
    {
     "name": "stdout",
     "output_type": "stream",
     "text": [
      "enter number32\n",
      "False\n",
      "[11, 14, 25, 34, 41, 42, 44]\n"
     ]
    }
   ],
   "source": [
    " # checking number is in list or not \n",
    "import random\n",
    "res = random.sample(range(1, 50), 7) \n",
    "res.sort()\n",
    "n = int(input(\"enter number\"))\n",
    "def check(n):\n",
    "        return True if n in res else False\n",
    "print(check(n))\n",
    "print(res)"
   ]
  },
  {
   "cell_type": "code",
   "execution_count": null,
   "metadata": {},
   "outputs": [],
   "source": []
  }
 ],
 "metadata": {
  "kernelspec": {
   "display_name": "Python 3",
   "language": "python",
   "name": "python3"
  },
  "language_info": {
   "codemirror_mode": {
    "name": "ipython",
    "version": 3
   },
   "file_extension": ".py",
   "mimetype": "text/x-python",
   "name": "python",
   "nbconvert_exporter": "python",
   "pygments_lexer": "ipython3",
   "version": "3.7.4"
  }
 },
 "nbformat": 4,
 "nbformat_minor": 2
}
